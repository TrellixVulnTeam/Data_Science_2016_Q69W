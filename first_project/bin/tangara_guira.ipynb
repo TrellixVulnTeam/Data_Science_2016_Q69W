{
 "cells": [
  {
   "cell_type": "code",
   "execution_count": 3,
   "id": "worth-welsh",
   "metadata": {},
   "outputs": [],
   "source": [
    "import pandas as pd"
   ]
  },
  {
   "cell_type": "code",
   "execution_count": 6,
   "id": "fluid-speaking",
   "metadata": {},
   "outputs": [
    {
     "name": "stdout",
     "output_type": "stream",
     "text": [
      "activate\t\t\t\t\t    jupyter-kernelspec\r\n",
      "activate.csh\t\t\t\t\t    jupyter-migrate\r\n",
      "activate.fish\t\t\t\t\t    jupyter-nbconvert\r\n",
      "activate.ps1\t\t\t\t\t    jupyter-nbextension\r\n",
      "activate_this.py\t\t\t\t    jupyter-notebook\r\n",
      "activate.xsh\t\t\t\t\t    jupyter-qtconsole\r\n",
      "birds1.ipynb\t\t\t\t\t    jupyter-run\r\n",
      "ebd_guitan1_relJan-2021\t\t\t\t    jupyter-serverextension\r\n",
      "ebd_guitan1_relJan-2021.csv\t\t\t    jupyter-troubleshoot\r\n",
      "ebd_guitan1_relJan-2021.zip\t\t\t    jupyter-trust\r\n",
      "ebd_US-AL-101_201801_201801_relMay-2018_SAMPLE\t    pip\r\n",
      "ebd_US-AL-101_201801_201801_relMay-2018_SAMPLE.zip  pip3\r\n",
      "f2py\t\t\t\t\t\t    pip-3.8\r\n",
      "f2py3\t\t\t\t\t\t    pip3.8\r\n",
      "f2py3.8\t\t\t\t\t\t    pygmentize\r\n",
      "iptest\t\t\t\t\t\t    python\r\n",
      "iptest3\t\t\t\t\t\t    python3\r\n",
      "ipython\t\t\t\t\t\t    python3.8\r\n",
      "ipython3\t\t\t\t\t    tangara_guira.ipynb\r\n",
      "jsonschema\t\t\t\t\t    Untitled.ipynb\r\n",
      "jupyter\t\t\t\t\t\t    wheel\r\n",
      "jupyter1.ipynb\t\t\t\t\t    wheel3\r\n",
      "jupyter-bundlerextension\t\t\t    wheel-3.8\r\n",
      "jupyter-console\t\t\t\t\t    wheel3.8\r\n",
      "jupyter-kernel\r\n"
     ]
    }
   ],
   "source": [
    "!ls"
   ]
  },
  {
   "cell_type": "code",
   "execution_count": 9,
   "id": "governmental-attendance",
   "metadata": {},
   "outputs": [],
   "source": [
    "data = pd.read_csv('ebd_guitan1_relJan-2021.csv')"
   ]
  },
  {
   "cell_type": "code",
   "execution_count": 13,
   "id": "engaged-newark",
   "metadata": {},
   "outputs": [
    {
     "data": {
      "text/html": [
       "<div>\n",
       "<style scoped>\n",
       "    .dataframe tbody tr th:only-of-type {\n",
       "        vertical-align: middle;\n",
       "    }\n",
       "\n",
       "    .dataframe tbody tr th {\n",
       "        vertical-align: top;\n",
       "    }\n",
       "\n",
       "    .dataframe thead th {\n",
       "        text-align: right;\n",
       "    }\n",
       "</style>\n",
       "<table border=\"1\" class=\"dataframe\">\n",
       "  <thead>\n",
       "    <tr style=\"text-align: right;\">\n",
       "      <th></th>\n",
       "      <th>GLOBAL UNIQUE IDENTIFIER</th>\n",
       "      <th>LAST EDITED DATE</th>\n",
       "      <th>TAXONOMIC ORDER</th>\n",
       "      <th>CATEGORY</th>\n",
       "      <th>COMMON NAME</th>\n",
       "      <th>SCIENTIFIC NAME</th>\n",
       "      <th>SUBSPECIES COMMON NAME</th>\n",
       "      <th>SUBSPECIES SCIENTIFIC NAME</th>\n",
       "      <th>OBSERVATION COUNT</th>\n",
       "      <th>BREEDING BIRD ATLAS CODE</th>\n",
       "      <th>...</th>\n",
       "      <th>Unnamed: 83</th>\n",
       "      <th>Unnamed: 84</th>\n",
       "      <th>Unnamed: 85</th>\n",
       "      <th>Unnamed: 86</th>\n",
       "      <th>Unnamed: 87</th>\n",
       "      <th>Unnamed: 88</th>\n",
       "      <th>Unnamed: 89</th>\n",
       "      <th>Unnamed: 90</th>\n",
       "      <th>Unnamed: 91</th>\n",
       "      <th>Unnamed: 92</th>\n",
       "    </tr>\n",
       "  </thead>\n",
       "  <tbody>\n",
       "    <tr>\n",
       "      <th>0</th>\n",
       "      <td>URN:CornellLabOfOrnithology:EBIRD:OBS284989536</td>\n",
       "      <td>2018-09-27 18:29:07</td>\n",
       "      <td>33866</td>\n",
       "      <td>species</td>\n",
       "      <td>Guira Tanager</td>\n",
       "      <td>Hemithraupis guira</td>\n",
       "      <td>NaN</td>\n",
       "      <td>NaN</td>\n",
       "      <td>6</td>\n",
       "      <td>NaN</td>\n",
       "      <td>...</td>\n",
       "      <td>NaN</td>\n",
       "      <td>NaN</td>\n",
       "      <td>NaN</td>\n",
       "      <td>NaN</td>\n",
       "      <td>NaN</td>\n",
       "      <td>NaN</td>\n",
       "      <td>NaN</td>\n",
       "      <td>NaN</td>\n",
       "      <td>NaN</td>\n",
       "      <td>NaN</td>\n",
       "    </tr>\n",
       "    <tr>\n",
       "      <th>1</th>\n",
       "      <td>URN:CornellLabOfOrnithology:EBIRD:OBS284432790</td>\n",
       "      <td>2018-09-27 18:29:07</td>\n",
       "      <td>33866</td>\n",
       "      <td>species</td>\n",
       "      <td>Guira Tanager</td>\n",
       "      <td>Hemithraupis guira</td>\n",
       "      <td>NaN</td>\n",
       "      <td>NaN</td>\n",
       "      <td>6</td>\n",
       "      <td>NaN</td>\n",
       "      <td>...</td>\n",
       "      <td>NaN</td>\n",
       "      <td>NaN</td>\n",
       "      <td>NaN</td>\n",
       "      <td>NaN</td>\n",
       "      <td>NaN</td>\n",
       "      <td>NaN</td>\n",
       "      <td>NaN</td>\n",
       "      <td>NaN</td>\n",
       "      <td>NaN</td>\n",
       "      <td>NaN</td>\n",
       "    </tr>\n",
       "    <tr>\n",
       "      <th>2</th>\n",
       "      <td>URN:CornellLabOfOrnithology:EBIRD:OBS284778503</td>\n",
       "      <td>2018-09-27 18:29:07</td>\n",
       "      <td>33866</td>\n",
       "      <td>species</td>\n",
       "      <td>Guira Tanager</td>\n",
       "      <td>Hemithraupis guira</td>\n",
       "      <td>NaN</td>\n",
       "      <td>NaN</td>\n",
       "      <td>2</td>\n",
       "      <td>NaN</td>\n",
       "      <td>...</td>\n",
       "      <td>NaN</td>\n",
       "      <td>NaN</td>\n",
       "      <td>NaN</td>\n",
       "      <td>NaN</td>\n",
       "      <td>NaN</td>\n",
       "      <td>NaN</td>\n",
       "      <td>NaN</td>\n",
       "      <td>NaN</td>\n",
       "      <td>NaN</td>\n",
       "      <td>NaN</td>\n",
       "    </tr>\n",
       "    <tr>\n",
       "      <th>3</th>\n",
       "      <td>URN:CornellLabOfOrnithology:EBIRD:OBS317602358</td>\n",
       "      <td>2018-09-27 18:29:34</td>\n",
       "      <td>33866</td>\n",
       "      <td>species</td>\n",
       "      <td>Guira Tanager</td>\n",
       "      <td>Hemithraupis guira</td>\n",
       "      <td>NaN</td>\n",
       "      <td>NaN</td>\n",
       "      <td>3</td>\n",
       "      <td>NaN</td>\n",
       "      <td>...</td>\n",
       "      <td>NaN</td>\n",
       "      <td>NaN</td>\n",
       "      <td>NaN</td>\n",
       "      <td>NaN</td>\n",
       "      <td>NaN</td>\n",
       "      <td>NaN</td>\n",
       "      <td>NaN</td>\n",
       "      <td>NaN</td>\n",
       "      <td>NaN</td>\n",
       "      <td>NaN</td>\n",
       "    </tr>\n",
       "    <tr>\n",
       "      <th>4</th>\n",
       "      <td>URN:CornellLabOfOrnithology:EBIRD:OBS317580153</td>\n",
       "      <td>2018-09-27 18:29:34</td>\n",
       "      <td>33866</td>\n",
       "      <td>species</td>\n",
       "      <td>Guira Tanager</td>\n",
       "      <td>Hemithraupis guira</td>\n",
       "      <td>NaN</td>\n",
       "      <td>NaN</td>\n",
       "      <td>3</td>\n",
       "      <td>NaN</td>\n",
       "      <td>...</td>\n",
       "      <td>NaN</td>\n",
       "      <td>NaN</td>\n",
       "      <td>NaN</td>\n",
       "      <td>NaN</td>\n",
       "      <td>NaN</td>\n",
       "      <td>NaN</td>\n",
       "      <td>NaN</td>\n",
       "      <td>NaN</td>\n",
       "      <td>NaN</td>\n",
       "      <td>NaN</td>\n",
       "    </tr>\n",
       "  </tbody>\n",
       "</table>\n",
       "<p>5 rows × 93 columns</p>\n",
       "</div>"
      ],
      "text/plain": [
       "                         GLOBAL UNIQUE IDENTIFIER     LAST EDITED DATE  \\\n",
       "0  URN:CornellLabOfOrnithology:EBIRD:OBS284989536  2018-09-27 18:29:07   \n",
       "1  URN:CornellLabOfOrnithology:EBIRD:OBS284432790  2018-09-27 18:29:07   \n",
       "2  URN:CornellLabOfOrnithology:EBIRD:OBS284778503  2018-09-27 18:29:07   \n",
       "3  URN:CornellLabOfOrnithology:EBIRD:OBS317602358  2018-09-27 18:29:34   \n",
       "4  URN:CornellLabOfOrnithology:EBIRD:OBS317580153  2018-09-27 18:29:34   \n",
       "\n",
       "   TAXONOMIC ORDER CATEGORY    COMMON NAME     SCIENTIFIC NAME  \\\n",
       "0            33866  species  Guira Tanager  Hemithraupis guira   \n",
       "1            33866  species  Guira Tanager  Hemithraupis guira   \n",
       "2            33866  species  Guira Tanager  Hemithraupis guira   \n",
       "3            33866  species  Guira Tanager  Hemithraupis guira   \n",
       "4            33866  species  Guira Tanager  Hemithraupis guira   \n",
       "\n",
       "   SUBSPECIES COMMON NAME  SUBSPECIES SCIENTIFIC NAME OBSERVATION COUNT  \\\n",
       "0                     NaN                         NaN                 6   \n",
       "1                     NaN                         NaN                 6   \n",
       "2                     NaN                         NaN                 2   \n",
       "3                     NaN                         NaN                 3   \n",
       "4                     NaN                         NaN                 3   \n",
       "\n",
       "  BREEDING BIRD ATLAS CODE  ... Unnamed: 83 Unnamed: 84 Unnamed: 85  \\\n",
       "0                      NaN  ...         NaN         NaN         NaN   \n",
       "1                      NaN  ...         NaN         NaN         NaN   \n",
       "2                      NaN  ...         NaN         NaN         NaN   \n",
       "3                      NaN  ...         NaN         NaN         NaN   \n",
       "4                      NaN  ...         NaN         NaN         NaN   \n",
       "\n",
       "  Unnamed: 86 Unnamed: 87 Unnamed: 88 Unnamed: 89 Unnamed: 90 Unnamed: 91  \\\n",
       "0         NaN         NaN         NaN         NaN         NaN         NaN   \n",
       "1         NaN         NaN         NaN         NaN         NaN         NaN   \n",
       "2         NaN         NaN         NaN         NaN         NaN         NaN   \n",
       "3         NaN         NaN         NaN         NaN         NaN         NaN   \n",
       "4         NaN         NaN         NaN         NaN         NaN         NaN   \n",
       "\n",
       "  Unnamed: 92  \n",
       "0         NaN  \n",
       "1         NaN  \n",
       "2         NaN  \n",
       "3         NaN  \n",
       "4         NaN  \n",
       "\n",
       "[5 rows x 93 columns]"
      ]
     },
     "execution_count": 13,
     "metadata": {},
     "output_type": "execute_result"
    }
   ],
   "source": [
    "data.head()"
   ]
  },
  {
   "cell_type": "code",
   "execution_count": 32,
   "id": "freelance-johnson",
   "metadata": {},
   "outputs": [
    {
     "data": {
      "text/plain": [
       "0         2\n",
       "1        12\n",
       "2        12\n",
       "3        12\n",
       "4         2\n",
       "         ..\n",
       "15057     4\n",
       "15058     2\n",
       "15059     2\n",
       "15060     3\n",
       "15061     3\n",
       "Name: OBSERVATION COUNT, Length: 15062, dtype: int64"
      ]
     },
     "execution_count": 32,
     "metadata": {},
     "output_type": "execute_result"
    }
   ],
   "source": [
    "data['OBSERVATION COUNT']"
   ]
  },
  {
   "cell_type": "code",
   "execution_count": 31,
   "id": "hundred-medicine",
   "metadata": {},
   "outputs": [
    {
     "data": {
      "text/plain": [
       "2.1076882220156685"
      ]
     },
     "execution_count": 31,
     "metadata": {},
     "output_type": "execute_result"
    }
   ],
   "source": [
    "data['OBSERVATION COUNT'].mean()"
   ]
  },
  {
   "cell_type": "code",
   "execution_count": 28,
   "id": "gross-criterion",
   "metadata": {},
   "outputs": [],
   "source": [
    "data = pd.read_csv('guira')"
   ]
  },
  {
   "cell_type": "code",
   "execution_count": 30,
   "id": "digital-posting",
   "metadata": {},
   "outputs": [
    {
     "data": {
      "text/html": [
       "<div>\n",
       "<style scoped>\n",
       "    .dataframe tbody tr th:only-of-type {\n",
       "        vertical-align: middle;\n",
       "    }\n",
       "\n",
       "    .dataframe tbody tr th {\n",
       "        vertical-align: top;\n",
       "    }\n",
       "\n",
       "    .dataframe thead th {\n",
       "        text-align: right;\n",
       "    }\n",
       "</style>\n",
       "<table border=\"1\" class=\"dataframe\">\n",
       "  <thead>\n",
       "    <tr style=\"text-align: right;\">\n",
       "      <th></th>\n",
       "      <th>GLOBAL UNIQUE IDENTIFIER</th>\n",
       "      <th>LAST EDITED DATE</th>\n",
       "      <th>year</th>\n",
       "      <th>TAXONOMIC ORDER</th>\n",
       "      <th>CATEGORY</th>\n",
       "      <th>COMMON NAME</th>\n",
       "      <th>SCIENTIFIC NAME</th>\n",
       "      <th>SUBSPECIES COMMON NAME</th>\n",
       "      <th>SUBSPECIES SCIENTIFIC NAME</th>\n",
       "      <th>OBSERVATION COUNT</th>\n",
       "      <th>...</th>\n",
       "      <th>EFFORT AREA HA</th>\n",
       "      <th>NUMBER OBSERVERS</th>\n",
       "      <th>ALL SPECIES REPORTED</th>\n",
       "      <th>GROUP IDENTIFIER</th>\n",
       "      <th>HAS MEDIA</th>\n",
       "      <th>APPROVED</th>\n",
       "      <th>REVIEWED</th>\n",
       "      <th>REASON</th>\n",
       "      <th>TRIP COMMENTS</th>\n",
       "      <th>SPECIES COMMENTS</th>\n",
       "    </tr>\n",
       "  </thead>\n",
       "  <tbody>\n",
       "    <tr>\n",
       "      <th>0</th>\n",
       "      <td>URN:CornellLabOfOrnithology:EBIRD:OBS339886469</td>\n",
       "      <td>2019-04-05 10:55:50</td>\n",
       "      <td>2019</td>\n",
       "      <td>33866</td>\n",
       "      <td>species</td>\n",
       "      <td>Guira Tanager</td>\n",
       "      <td>Hemithraupis guira</td>\n",
       "      <td>NaN</td>\n",
       "      <td>NaN</td>\n",
       "      <td>2</td>\n",
       "      <td>...</td>\n",
       "      <td>NaN</td>\n",
       "      <td>2</td>\n",
       "      <td>1</td>\n",
       "      <td>G1394719</td>\n",
       "      <td>0</td>\n",
       "      <td>1</td>\n",
       "      <td>0</td>\n",
       "      <td>NaN</td>\n",
       "      <td>NaN</td>\n",
       "      <td>NaN</td>\n",
       "    </tr>\n",
       "    <tr>\n",
       "      <th>1</th>\n",
       "      <td>URN:CornellLabOfOrnithology:EBIRD:OBS393226654</td>\n",
       "      <td>2019-09-05 10:14:01</td>\n",
       "      <td>2019</td>\n",
       "      <td>33866</td>\n",
       "      <td>species</td>\n",
       "      <td>Guira Tanager</td>\n",
       "      <td>Hemithraupis guira</td>\n",
       "      <td>NaN</td>\n",
       "      <td>NaN</td>\n",
       "      <td>12</td>\n",
       "      <td>...</td>\n",
       "      <td>NaN</td>\n",
       "      <td>4</td>\n",
       "      <td>1</td>\n",
       "      <td>G1703503</td>\n",
       "      <td>0</td>\n",
       "      <td>1</td>\n",
       "      <td>0</td>\n",
       "      <td>NaN</td>\n",
       "      <td>&lt;br /&gt;Enviado desde eBird Android 1.0.4</td>\n",
       "      <td>NaN</td>\n",
       "    </tr>\n",
       "    <tr>\n",
       "      <th>2</th>\n",
       "      <td>URN:CornellLabOfOrnithology:EBIRD:OBS392909384</td>\n",
       "      <td>2019-09-05 10:14:01</td>\n",
       "      <td>2019</td>\n",
       "      <td>33866</td>\n",
       "      <td>species</td>\n",
       "      <td>Guira Tanager</td>\n",
       "      <td>Hemithraupis guira</td>\n",
       "      <td>NaN</td>\n",
       "      <td>NaN</td>\n",
       "      <td>12</td>\n",
       "      <td>...</td>\n",
       "      <td>NaN</td>\n",
       "      <td>4</td>\n",
       "      <td>1</td>\n",
       "      <td>G1703503</td>\n",
       "      <td>0</td>\n",
       "      <td>1</td>\n",
       "      <td>0</td>\n",
       "      <td>NaN</td>\n",
       "      <td>NaN</td>\n",
       "      <td>NaN</td>\n",
       "    </tr>\n",
       "    <tr>\n",
       "      <th>3</th>\n",
       "      <td>URN:CornellLabOfOrnithology:EBIRD:OBS393232032</td>\n",
       "      <td>2019-04-05 10:55:50</td>\n",
       "      <td>2019</td>\n",
       "      <td>33866</td>\n",
       "      <td>species</td>\n",
       "      <td>Guira Tanager</td>\n",
       "      <td>Hemithraupis guira</td>\n",
       "      <td>NaN</td>\n",
       "      <td>NaN</td>\n",
       "      <td>12</td>\n",
       "      <td>...</td>\n",
       "      <td>NaN</td>\n",
       "      <td>4</td>\n",
       "      <td>1</td>\n",
       "      <td>G1703503</td>\n",
       "      <td>0</td>\n",
       "      <td>1</td>\n",
       "      <td>0</td>\n",
       "      <td>NaN</td>\n",
       "      <td>NaN</td>\n",
       "      <td>NaN</td>\n",
       "    </tr>\n",
       "    <tr>\n",
       "      <th>4</th>\n",
       "      <td>URN:CornellLabOfOrnithology:EBIRD:OBS800054007</td>\n",
       "      <td>2019-09-01 19:45:42</td>\n",
       "      <td>2019</td>\n",
       "      <td>33866</td>\n",
       "      <td>species</td>\n",
       "      <td>Guira Tanager</td>\n",
       "      <td>Hemithraupis guira</td>\n",
       "      <td>NaN</td>\n",
       "      <td>NaN</td>\n",
       "      <td>2</td>\n",
       "      <td>...</td>\n",
       "      <td>NaN</td>\n",
       "      <td>10</td>\n",
       "      <td>1</td>\n",
       "      <td>G4472521</td>\n",
       "      <td>0</td>\n",
       "      <td>1</td>\n",
       "      <td>0</td>\n",
       "      <td>NaN</td>\n",
       "      <td>17° - Nublado</td>\n",
       "      <td>NaN</td>\n",
       "    </tr>\n",
       "  </tbody>\n",
       "</table>\n",
       "<p>5 rows × 47 columns</p>\n",
       "</div>"
      ],
      "text/plain": [
       "                         GLOBAL UNIQUE IDENTIFIER     LAST EDITED DATE  year  \\\n",
       "0  URN:CornellLabOfOrnithology:EBIRD:OBS339886469  2019-04-05 10:55:50  2019   \n",
       "1  URN:CornellLabOfOrnithology:EBIRD:OBS393226654  2019-09-05 10:14:01  2019   \n",
       "2  URN:CornellLabOfOrnithology:EBIRD:OBS392909384  2019-09-05 10:14:01  2019   \n",
       "3  URN:CornellLabOfOrnithology:EBIRD:OBS393232032  2019-04-05 10:55:50  2019   \n",
       "4  URN:CornellLabOfOrnithology:EBIRD:OBS800054007  2019-09-01 19:45:42  2019   \n",
       "\n",
       "   TAXONOMIC ORDER CATEGORY    COMMON NAME     SCIENTIFIC NAME  \\\n",
       "0            33866  species  Guira Tanager  Hemithraupis guira   \n",
       "1            33866  species  Guira Tanager  Hemithraupis guira   \n",
       "2            33866  species  Guira Tanager  Hemithraupis guira   \n",
       "3            33866  species  Guira Tanager  Hemithraupis guira   \n",
       "4            33866  species  Guira Tanager  Hemithraupis guira   \n",
       "\n",
       "   SUBSPECIES COMMON NAME  SUBSPECIES SCIENTIFIC NAME  OBSERVATION COUNT  ...  \\\n",
       "0                     NaN                         NaN                  2  ...   \n",
       "1                     NaN                         NaN                 12  ...   \n",
       "2                     NaN                         NaN                 12  ...   \n",
       "3                     NaN                         NaN                 12  ...   \n",
       "4                     NaN                         NaN                  2  ...   \n",
       "\n",
       "  EFFORT AREA HA NUMBER OBSERVERS ALL SPECIES REPORTED GROUP IDENTIFIER  \\\n",
       "0            NaN                2                    1         G1394719   \n",
       "1            NaN                4                    1         G1703503   \n",
       "2            NaN                4                    1         G1703503   \n",
       "3            NaN                4                    1         G1703503   \n",
       "4            NaN               10                    1         G4472521   \n",
       "\n",
       "  HAS MEDIA APPROVED REVIEWED REASON                            TRIP COMMENTS  \\\n",
       "0         0        1        0    NaN                                      NaN   \n",
       "1         0        1        0    NaN  <br />Enviado desde eBird Android 1.0.4   \n",
       "2         0        1        0    NaN                                      NaN   \n",
       "3         0        1        0    NaN                                      NaN   \n",
       "4         0        1        0    NaN                            17° - Nublado   \n",
       "\n",
       "  SPECIES COMMENTS  \n",
       "0              NaN  \n",
       "1              NaN  \n",
       "2              NaN  \n",
       "3              NaN  \n",
       "4              NaN  \n",
       "\n",
       "[5 rows x 47 columns]"
      ]
     },
     "execution_count": 30,
     "metadata": {},
     "output_type": "execute_result"
    }
   ],
   "source": [
    "data.head()"
   ]
  },
  {
   "cell_type": "code",
   "execution_count": 34,
   "id": "single-equipment",
   "metadata": {},
   "outputs": [
    {
     "data": {
      "text/plain": [
       "2.1076882220156685"
      ]
     },
     "execution_count": 34,
     "metadata": {},
     "output_type": "execute_result"
    }
   ],
   "source": [
    "data['OBSERVATION COUNT'].mean()"
   ]
  },
  {
   "cell_type": "code",
   "execution_count": 37,
   "id": "rotary-combining",
   "metadata": {},
   "outputs": [
    {
     "data": {
      "text/plain": [
       "55"
      ]
     },
     "execution_count": 37,
     "metadata": {},
     "output_type": "execute_result"
    }
   ],
   "source": [
    "data['OBSERVATION COUNT'].max()"
   ]
  },
  {
   "cell_type": "code",
   "execution_count": 40,
   "id": "endless-tourism",
   "metadata": {},
   "outputs": [
    {
     "data": {
      "text/plain": [
       "1"
      ]
     },
     "execution_count": 40,
     "metadata": {},
     "output_type": "execute_result"
    }
   ],
   "source": [
    "data['OBSERVATION COUNT'].min()"
   ]
  },
  {
   "cell_type": "code",
   "execution_count": 45,
   "id": "gentle-indicator",
   "metadata": {},
   "outputs": [
    {
     "name": "stdout",
     "output_type": "stream",
     "text": [
      "Requirement already satisfied: matplotlib in /home/isa/first_project/lib/python3.8/site-packages (3.3.4)\r\n",
      "Requirement already satisfied: cycler>=0.10 in /home/isa/first_project/lib/python3.8/site-packages (from matplotlib) (0.10.0)\r\n",
      "Requirement already satisfied: python-dateutil>=2.1 in /home/isa/first_project/lib/python3.8/site-packages (from matplotlib) (2.8.1)\r\n",
      "Requirement already satisfied: kiwisolver>=1.0.1 in /home/isa/first_project/lib/python3.8/site-packages (from matplotlib) (1.3.1)\r\n",
      "Requirement already satisfied: pillow>=6.2.0 in /home/isa/first_project/lib/python3.8/site-packages (from matplotlib) (8.1.0)\r\n",
      "Requirement already satisfied: numpy>=1.15 in /home/isa/first_project/lib/python3.8/site-packages (from matplotlib) (1.20.1)\r\n",
      "Requirement already satisfied: pyparsing!=2.0.4,!=2.1.2,!=2.1.6,>=2.0.3 in /home/isa/first_project/lib/python3.8/site-packages (from matplotlib) (2.4.7)\r\n",
      "Requirement already satisfied: six in /home/isa/first_project/lib/python3.8/site-packages (from cycler>=0.10->matplotlib) (1.15.0)\r\n"
     ]
    }
   ],
   "source": [
    "!pip3 install matplotlib"
   ]
  },
  {
   "cell_type": "code",
   "execution_count": 47,
   "id": "minor-ceiling",
   "metadata": {},
   "outputs": [],
   "source": [
    "%matplotlib inline"
   ]
  },
  {
   "cell_type": "code",
   "execution_count": 49,
   "id": "anticipated-melissa",
   "metadata": {},
   "outputs": [
    {
     "data": {
      "text/plain": [
       "<AxesSubplot:>"
      ]
     },
     "execution_count": 49,
     "metadata": {},
     "output_type": "execute_result"
    },
    {
     "data": {
      "image/png": "[encoded data removed]",
      "text/plain": [
       "<Figure size 432x288 with 1 Axes>"
      ]
     },
     "metadata": {
      "needs_background": "light"
     },
     "output_type": "display_data"
    }
   ],
   "source": [
    "data['OBSERVATION COUNT'].hist()"
   ]
  },
  {
   "cell_type": "code",
   "execution_count": 52,
   "id": "significant-salmon",
   "metadata": {},
   "outputs": [
    {
     "data": {
      "text/plain": [
       "Colombia            4253\n",
       "Brazil              4103\n",
       "Ecuador             2448\n",
       "Argentina           1425\n",
       "Venezuela            772\n",
       "Bolivia              601\n",
       "Paraguay             543\n",
       "Peru                 478\n",
       " Adult (1)           298\n",
       " Unknown Age (1)      45\n",
       "Guyana                20\n",
       " Adult (2)            19\n",
       "French Guiana         12\n",
       "Suriname              10\n",
       " Unknown Age (2)       8\n",
       " Juvenile (1)          6\n",
       " Adult (3)             4\n",
       " Immature (1)          4\n",
       " Male                  4\n",
       " Unknown Age (3)       3\n",
       " Female                2\n",
       " Juvenile (2)          2\n",
       " Adult (4)             1\n",
       " Unknown Age (4)       1\n",
       "Name: COUNTRY, dtype: int64"
      ]
     },
     "execution_count": 52,
     "metadata": {},
     "output_type": "execute_result"
    }
   ],
   "source": [
    "data['COUNTRY'].value_counts()"
   ]
  },
  {
   "cell_type": "code",
   "execution_count": 54,
   "id": "handled-seven",
   "metadata": {},
   "outputs": [
    {
     "data": {
      "text/plain": [
       "2020    8429\n",
       "2019    5604\n",
       "2021    1029\n",
       "Name: year, dtype: int64"
      ]
     },
     "execution_count": 54,
     "metadata": {},
     "output_type": "execute_result"
    }
   ],
   "source": [
    "data['year'].value_counts()"
   ]
  },
  {
   "cell_type": "code",
   "execution_count": 56,
   "id": "modified-space",
   "metadata": {},
   "outputs": [
    {
     "data": {
      "text/plain": [
       "<AxesSubplot:>"
      ]
     },
     "execution_count": 56,
     "metadata": {},
     "output_type": "execute_result"
    },
    {
     "data": {
      "image/png": "[encoded data removed]",
      "text/plain": [
       "<Figure size 432x288 with 1 Axes>"
      ]
     },
     "metadata": {
      "needs_background": "light"
     },
     "output_type": "display_data"
    }
   ],
   "source": [
    "data['COUNTRY'].hist()"
   ]
  },
  {
   "cell_type": "code",
   "execution_count": 60,
   "id": "fatal-occurrence",
   "metadata": {},
   "outputs": [
    {
     "data": {
      "text/plain": [
       "COUNTRY\n",
       " Unknown Age (4)    6.000000\n",
       " Unknown Age (3)    4.333333\n",
       " Adult (3)          4.000000\n",
       " Adult (4)          4.000000\n",
       " Female             4.000000\n",
       " Unknown Age (2)    4.000000\n",
       " Male               3.750000\n",
       " Juvenile (2)       3.500000\n",
       "Bolivia             3.454243\n",
       " Immature (1)       3.250000\n",
       " Adult (2)          2.736842\n",
       "Argentina           2.566316\n",
       "Brazil              2.289788\n",
       "Paraguay            2.220994\n",
       "Venezuela           2.202073\n",
       "Ecuador             1.871732\n",
       " Unknown Age (1)    1.866667\n",
       "Colombia            1.771220\n",
       " Adult (1)          1.714765\n",
       "Peru                1.615063\n",
       "Guyana              1.450000\n",
       " Juvenile (1)       1.333333\n",
       "Suriname            1.300000\n",
       "French Guiana       1.166667\n",
       "Name: OBSERVATION COUNT, dtype: float64"
      ]
     },
     "execution_count": 60,
     "metadata": {},
     "output_type": "execute_result"
    }
   ],
   "source": [
    "data.groupby('COUNTRY')['OBSERVATION COUNT'].mean().sort_values(ascending=False)"
   ]
  },
  {
   "cell_type": "code",
   "execution_count": 63,
   "id": "clear-graham",
   "metadata": {},
   "outputs": [
    {
     "name": "stdout",
     "output_type": "stream",
     "text": [
      "Requirement already satisfied: seaborn in /home/isa/first_project/lib/python3.8/site-packages (0.11.1)\n",
      "Requirement already satisfied: numpy>=1.15 in /home/isa/first_project/lib/python3.8/site-packages (from seaborn) (1.20.1)\n",
      "Requirement already satisfied: pandas>=0.23 in /home/isa/first_project/lib/python3.8/site-packages (from seaborn) (1.2.2)\n",
      "Requirement already satisfied: matplotlib>=2.2 in /home/isa/first_project/lib/python3.8/site-packages (from seaborn) (3.3.4)\n",
      "Requirement already satisfied: scipy>=1.0 in /home/isa/first_project/lib/python3.8/site-packages (from seaborn) (1.6.1)\n",
      "Requirement already satisfied: kiwisolver>=1.0.1 in /home/isa/first_project/lib/python3.8/site-packages (from matplotlib>=2.2->seaborn) (1.3.1)\n",
      "Requirement already satisfied: pillow>=6.2.0 in /home/isa/first_project/lib/python3.8/site-packages (from matplotlib>=2.2->seaborn) (8.1.0)\n",
      "Requirement already satisfied: python-dateutil>=2.1 in /home/isa/first_project/lib/python3.8/site-packages (from matplotlib>=2.2->seaborn) (2.8.1)\n",
      "Requirement already satisfied: cycler>=0.10 in /home/isa/first_project/lib/python3.8/site-packages (from matplotlib>=2.2->seaborn) (0.10.0)\n",
      "Requirement already satisfied: pyparsing!=2.0.4,!=2.1.2,!=2.1.6,>=2.0.3 in /home/isa/first_project/lib/python3.8/site-packages (from matplotlib>=2.2->seaborn) (2.4.7)\n",
      "Requirement already satisfied: six in /home/isa/first_project/lib/python3.8/site-packages (from cycler>=0.10->matplotlib>=2.2->seaborn) (1.15.0)\n",
      "Requirement already satisfied: pytz>=2017.3 in /home/isa/first_project/lib/python3.8/site-packages (from pandas>=0.23->seaborn) (2021.1)\n"
     ]
    }
   ],
   "source": [
    "!pip3 install seaborn"
   ]
  },
  {
   "cell_type": "code",
   "execution_count": 65,
   "id": "romantic-premium",
   "metadata": {},
   "outputs": [],
   "source": [
    "import seaborn as sns"
   ]
  },
  {
   "cell_type": "code",
   "execution_count": 80,
   "id": "favorite-corps",
   "metadata": {},
   "outputs": [
    {
     "data": {
      "text/plain": [
       "<seaborn.axisgrid.JointGrid at 0x7fa40a88c220>"
      ]
     },
     "execution_count": 80,
     "metadata": {},
     "output_type": "execute_result"
    },
    {
     "data": {
      "image/png": "[encoded data removed]",
      "text/plain": [
       "<Figure size 432x432 with 3 Axes>"
      ]
     },
     "metadata": {
      "needs_background": "light"
     },
     "output_type": "display_data"
    }
   ],
   "source": [
    "sns.jointplot(x='year', y='OBSERVATION COUNT', data=data, kind='reg')"
   ]
  },
  {
   "cell_type": "code",
   "execution_count": null,
   "id": "elder-convenience",
   "metadata": {},
   "outputs": [],
   "source": []
  }
 ],
 "metadata": {
  "kernelspec": {
   "display_name": "Python 3",
   "language": "python",
   "name": "python3"
  },
  "language_info": {
   "codemirror_mode": {
    "name": "ipython",
    "version": 3
   },
   "file_extension": ".py",
   "mimetype": "text/x-python",
   "name": "python",
   "nbconvert_exporter": "python",
   "pygments_lexer": "ipython3",
   "version": "3.8.5"
  }
 },
 "nbformat": 4,
 "nbformat_minor": 5
}
