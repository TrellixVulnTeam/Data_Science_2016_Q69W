{
 "cells": [
  {
   "cell_type": "code",
   "execution_count": 1,
   "id": "rental-acquisition",
   "metadata": {},
   "outputs": [],
   "source": [
    "# Pitágoras"
   ]
  },
  {
   "cell_type": "code",
   "execution_count": 2,
   "id": "described-statistics",
   "metadata": {},
   "outputs": [],
   "source": [
    "import math"
   ]
  },
  {
   "cell_type": "code",
   "execution_count": 8,
   "id": "moral-entity",
   "metadata": {},
   "outputs": [],
   "source": [
    "def pitagoras(a, b):\n",
    "    return math.sqrt(a**2 + b**2)"
   ]
  },
  {
   "cell_type": "code",
   "execution_count": 9,
   "id": "medical-ideal",
   "metadata": {},
   "outputs": [
    {
     "data": {
      "text/plain": [
       "22.360679774997898"
      ]
     },
     "execution_count": 9,
     "metadata": {},
     "output_type": "execute_result"
    }
   ],
   "source": [
    "pitagoras(10, 20)"
   ]
  }
 ],
 "metadata": {
  "kernelspec": {
   "display_name": "Python 3",
   "language": "python",
   "name": "python3"
  },
  "language_info": {
   "codemirror_mode": {
    "name": "ipython",
    "version": 3
   },
   "file_extension": ".py",
   "mimetype": "text/x-python",
   "name": "python",
   "nbconvert_exporter": "python",
   "pygments_lexer": "ipython3",
   "version": "3.8.5"
  }
 },
 "nbformat": 4,
 "nbformat_minor": 5
}
