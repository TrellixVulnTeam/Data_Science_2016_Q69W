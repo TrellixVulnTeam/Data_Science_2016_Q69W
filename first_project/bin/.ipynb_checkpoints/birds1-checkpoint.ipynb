{
 "cells": [
  {
   "cell_type": "code",
   "execution_count": 2,
   "id": "matched-pulse",
   "metadata": {},
   "outputs": [
    {
     "ename": "ModuleNotFoundError",
     "evalue": "No module named 'pandas'",
     "output_type": "error",
     "traceback": [
      "\u001b[0;31m---------------------------------------------------------------------------\u001b[0m",
      "\u001b[0;31mModuleNotFoundError\u001b[0m                       Traceback (most recent call last)",
      "\u001b[0;32m<ipython-input-2-7dd3504c366f>\u001b[0m in \u001b[0;36m<module>\u001b[0;34m\u001b[0m\n\u001b[0;32m----> 1\u001b[0;31m \u001b[0;32mimport\u001b[0m \u001b[0mpandas\u001b[0m \u001b[0;32mas\u001b[0m \u001b[0mpd\u001b[0m\u001b[0;34m\u001b[0m\u001b[0;34m\u001b[0m\u001b[0m\n\u001b[0m",
      "\u001b[0;31mModuleNotFoundError\u001b[0m: No module named 'pandas'"
     ]
    }
   ],
   "source": [
    "import pandas as pd"
   ]
  },
  {
   "cell_type": "code",
   "execution_count": 5,
   "id": "figured-volunteer",
   "metadata": {},
   "outputs": [
    {
     "name": "stdout",
     "output_type": "stream",
     "text": [
      "Requirement already satisfied: pandas in /home/isa/first_project/lib/python3.8/site-packages (1.2.2)\r\n",
      "Requirement already satisfied: pytz>=2017.3 in /home/isa/first_project/lib/python3.8/site-packages (from pandas) (2021.1)\r\n",
      "Requirement already satisfied: numpy>=1.16.5 in /home/isa/first_project/lib/python3.8/site-packages (from pandas) (1.20.1)\r\n",
      "Requirement already satisfied: python-dateutil>=2.7.3 in /home/isa/first_project/lib/python3.8/site-packages (from pandas) (2.8.1)\r\n",
      "Requirement already satisfied: six>=1.5 in /home/isa/first_project/lib/python3.8/site-packages (from python-dateutil>=2.7.3->pandas) (1.15.0)\r\n"
     ]
    }
   ],
   "source": [
    "!pip3 install pandas"
   ]
  },
  {
   "cell_type": "code",
   "execution_count": 8,
   "id": "pleased-coordinator",
   "metadata": {},
   "outputs": [
    {
     "name": "stdout",
     "output_type": "stream",
     "text": [
      "activate\t\t  jupyter-nbconvert\r\n",
      "activate.csh\t\t  jupyter-nbextension\r\n",
      "activate.fish\t\t  jupyter-notebook\r\n",
      "activate.ps1\t\t  jupyter-qtconsole\r\n",
      "activate_this.py\t  jupyter-run\r\n",
      "activate.xsh\t\t  jupyter-serverextension\r\n",
      "birds1.ipynb\t\t  jupyter-troubleshoot\r\n",
      "f2py\t\t\t  jupyter-trust\r\n",
      "f2py3\t\t\t  pip\r\n",
      "f2py3.8\t\t\t  pip3\r\n",
      "iptest\t\t\t  pip-3.8\r\n",
      "iptest3\t\t\t  pip3.8\r\n",
      "ipython\t\t\t  pygmentize\r\n",
      "ipython3\t\t  python\r\n",
      "jsonschema\t\t  python3\r\n",
      "jupyter\t\t\t  python3.8\r\n",
      "jupyter1.ipynb\t\t  rtf-lista_especies_sirap-ec-v3.2.rtf\r\n",
      "jupyter-bundlerextension  Untitled.ipynb\r\n",
      "jupyter-console\t\t  wheel\r\n",
      "jupyter-kernel\t\t  wheel3\r\n",
      "jupyter-kernelspec\t  wheel-3.8\r\n",
      "jupyter-migrate\t\t  wheel3.8\r\n"
     ]
    }
   ],
   "source": [
    "!ls"
   ]
  },
  {
   "cell_type": "code",
   "execution_count": 10,
   "id": "breeding-medicaid",
   "metadata": {},
   "outputs": [
    {
     "ename": "NameError",
     "evalue": "name 'pd' is not defined",
     "output_type": "error",
     "traceback": [
      "\u001b[0;31m---------------------------------------------------------------------------\u001b[0m",
      "\u001b[0;31mNameError\u001b[0m                                 Traceback (most recent call last)",
      "\u001b[0;32m<ipython-input-10-c5c2c82f320b>\u001b[0m in \u001b[0;36m<module>\u001b[0;34m\u001b[0m\n\u001b[0;32m----> 1\u001b[0;31m \u001b[0mdata\u001b[0m \u001b[0;34m=\u001b[0m \u001b[0mpd\u001b[0m\u001b[0;34m.\u001b[0m\u001b[0mread_rtf\u001b[0m\u001b[0;34m(\u001b[0m\u001b[0;34m'wcs.rtf'\u001b[0m\u001b[0;34m)\u001b[0m\u001b[0;34m\u001b[0m\u001b[0;34m\u001b[0m\u001b[0m\n\u001b[0m",
      "\u001b[0;31mNameError\u001b[0m: name 'pd' is not defined"
     ]
    }
   ],
   "source": [
    "data = pd.read_rtf('wcs.rtf')"
   ]
  },
  {
   "cell_type": "code",
   "execution_count": 13,
   "id": "statistical-sydney",
   "metadata": {},
   "outputs": [
    {
     "ename": "NameError",
     "evalue": "name 'data' is not defined",
     "output_type": "error",
     "traceback": [
      "\u001b[0;31m---------------------------------------------------------------------------\u001b[0m",
      "\u001b[0;31mNameError\u001b[0m                                 Traceback (most recent call last)",
      "\u001b[0;32m<ipython-input-13-304fa4ce4ebd>\u001b[0m in \u001b[0;36m<module>\u001b[0;34m\u001b[0m\n\u001b[0;32m----> 1\u001b[0;31m \u001b[0mdata\u001b[0m\u001b[0;34m.\u001b[0m\u001b[0mhead\u001b[0m\u001b[0;34m(\u001b[0m\u001b[0;34m)\u001b[0m\u001b[0;34m\u001b[0m\u001b[0;34m\u001b[0m\u001b[0m\n\u001b[0m",
      "\u001b[0;31mNameError\u001b[0m: name 'data' is not defined"
     ]
    }
   ],
   "source": [
    "data.head()"
   ]
  },
  {
   "cell_type": "code",
   "execution_count": 16,
   "id": "elegant-mineral",
   "metadata": {},
   "outputs": [],
   "source": [
    "import pandas as pd"
   ]
  },
  {
   "cell_type": "code",
   "execution_count": 18,
   "id": "directed-tattoo",
   "metadata": {},
   "outputs": [
    {
     "ename": "AttributeError",
     "evalue": "module 'pandas' has no attribute 'read_rtf'",
     "output_type": "error",
     "traceback": [
      "\u001b[0;31m---------------------------------------------------------------------------\u001b[0m",
      "\u001b[0;31mAttributeError\u001b[0m                            Traceback (most recent call last)",
      "\u001b[0;32m<ipython-input-18-c5c2c82f320b>\u001b[0m in \u001b[0;36m<module>\u001b[0;34m\u001b[0m\n\u001b[0;32m----> 1\u001b[0;31m \u001b[0mdata\u001b[0m \u001b[0;34m=\u001b[0m \u001b[0mpd\u001b[0m\u001b[0;34m.\u001b[0m\u001b[0mread_rtf\u001b[0m\u001b[0;34m(\u001b[0m\u001b[0;34m'wcs.rtf'\u001b[0m\u001b[0;34m)\u001b[0m\u001b[0;34m\u001b[0m\u001b[0;34m\u001b[0m\u001b[0m\n\u001b[0m",
      "\u001b[0;32m~/first_project/lib/python3.8/site-packages/pandas/__init__.py\u001b[0m in \u001b[0;36m__getattr__\u001b[0;34m(name)\u001b[0m\n\u001b[1;32m    242\u001b[0m         \u001b[0;32mreturn\u001b[0m \u001b[0m_SparseArray\u001b[0m\u001b[0;34m\u001b[0m\u001b[0;34m\u001b[0m\u001b[0m\n\u001b[1;32m    243\u001b[0m \u001b[0;34m\u001b[0m\u001b[0m\n\u001b[0;32m--> 244\u001b[0;31m     \u001b[0;32mraise\u001b[0m \u001b[0mAttributeError\u001b[0m\u001b[0;34m(\u001b[0m\u001b[0;34mf\"module 'pandas' has no attribute '{name}'\"\u001b[0m\u001b[0;34m)\u001b[0m\u001b[0;34m\u001b[0m\u001b[0;34m\u001b[0m\u001b[0m\n\u001b[0m\u001b[1;32m    245\u001b[0m \u001b[0;34m\u001b[0m\u001b[0m\n\u001b[1;32m    246\u001b[0m \u001b[0;34m\u001b[0m\u001b[0m\n",
      "\u001b[0;31mAttributeError\u001b[0m: module 'pandas' has no attribute 'read_rtf'"
     ]
    }
   ],
   "source": [
    "data = pd.read_rtf('wcs.rtf')"
   ]
  },
  {
   "cell_type": "code",
   "execution_count": 21,
   "id": "psychological-graham",
   "metadata": {},
   "outputs": [
    {
     "ename": "AttributeError",
     "evalue": "module 'pandas' has no attribute 'read_rtf'",
     "output_type": "error",
     "traceback": [
      "\u001b[0;31m---------------------------------------------------------------------------\u001b[0m",
      "\u001b[0;31mAttributeError\u001b[0m                            Traceback (most recent call last)",
      "\u001b[0;32m<ipython-input-21-12a59ad6777f>\u001b[0m in \u001b[0;36m<module>\u001b[0;34m\u001b[0m\n\u001b[0;32m----> 1\u001b[0;31m \u001b[0mdata\u001b[0m \u001b[0;34m=\u001b[0m \u001b[0mpd\u001b[0m\u001b[0;34m.\u001b[0m\u001b[0mread_rtf\u001b[0m\u001b[0;34m(\u001b[0m\u001b[0;34m'wcs.csv'\u001b[0m\u001b[0;34m)\u001b[0m\u001b[0;34m\u001b[0m\u001b[0;34m\u001b[0m\u001b[0m\n\u001b[0m",
      "\u001b[0;32m~/first_project/lib/python3.8/site-packages/pandas/__init__.py\u001b[0m in \u001b[0;36m__getattr__\u001b[0;34m(name)\u001b[0m\n\u001b[1;32m    242\u001b[0m         \u001b[0;32mreturn\u001b[0m \u001b[0m_SparseArray\u001b[0m\u001b[0;34m\u001b[0m\u001b[0;34m\u001b[0m\u001b[0m\n\u001b[1;32m    243\u001b[0m \u001b[0;34m\u001b[0m\u001b[0m\n\u001b[0;32m--> 244\u001b[0;31m     \u001b[0;32mraise\u001b[0m \u001b[0mAttributeError\u001b[0m\u001b[0;34m(\u001b[0m\u001b[0;34mf\"module 'pandas' has no attribute '{name}'\"\u001b[0m\u001b[0;34m)\u001b[0m\u001b[0;34m\u001b[0m\u001b[0;34m\u001b[0m\u001b[0m\n\u001b[0m\u001b[1;32m    245\u001b[0m \u001b[0;34m\u001b[0m\u001b[0m\n\u001b[1;32m    246\u001b[0m \u001b[0;34m\u001b[0m\u001b[0m\n",
      "\u001b[0;31mAttributeError\u001b[0m: module 'pandas' has no attribute 'read_rtf'"
     ]
    }
   ],
   "source": [
    "data = pd.read_rtf('wcs.csv')"
   ]
  },
  {
   "cell_type": "code",
   "execution_count": 26,
   "id": "documented-start",
   "metadata": {},
   "outputs": [],
   "source": [
    "data = pd.read_csv('wcs.csv')"
   ]
  },
  {
   "cell_type": "code",
   "execution_count": 27,
   "id": "statutory-kansas",
   "metadata": {},
   "outputs": [
    {
     "data": {
      "text/html": [
       "<div>\n",
       "<style scoped>\n",
       "    .dataframe tbody tr th:only-of-type {\n",
       "        vertical-align: middle;\n",
       "    }\n",
       "\n",
       "    .dataframe tbody tr th {\n",
       "        vertical-align: top;\n",
       "    }\n",
       "\n",
       "    .dataframe thead th {\n",
       "        text-align: right;\n",
       "    }\n",
       "</style>\n",
       "<table border=\"1\" class=\"dataframe\">\n",
       "  <thead>\n",
       "    <tr style=\"text-align: right;\">\n",
       "      <th></th>\n",
       "      <th>Lista de taxones en el SIRAP-EC</th>\n",
       "    </tr>\n",
       "  </thead>\n",
       "  <tbody>\n",
       "    <tr>\n",
       "      <th>0</th>\n",
       "      <td>Carlos Ríos-Franco1, Jesús Martínez2, Cleopatr...</td>\n",
       "    </tr>\n",
       "    <tr>\n",
       "      <th>1</th>\n",
       "      <td>1 Wildlife Conservation Society, Avenida 5N  #...</td>\n",
       "    </tr>\n",
       "    <tr>\n",
       "      <th>2</th>\n",
       "      <td>Corresponding author(s): Carlos Ríos-Franco (c...</td>\n",
       "    </tr>\n",
       "    <tr>\n",
       "      <th>3</th>\n",
       "      <td>Received {date}; Revised {date}; Accepted {dat...</td>\n",
       "    </tr>\n",
       "    <tr>\n",
       "      <th>4</th>\n",
       "      <td>Citation: Combination of authors, year of data...</td>\n",
       "    </tr>\n",
       "  </tbody>\n",
       "</table>\n",
       "</div>"
      ],
      "text/plain": [
       "                     Lista de taxones en el SIRAP-EC\n",
       "0  Carlos Ríos-Franco1, Jesús Martínez2, Cleopatr...\n",
       "1  1 Wildlife Conservation Society, Avenida 5N  #...\n",
       "2  Corresponding author(s): Carlos Ríos-Franco (c...\n",
       "3  Received {date}; Revised {date}; Accepted {dat...\n",
       "4  Citation: Combination of authors, year of data..."
      ]
     },
     "execution_count": 27,
     "metadata": {},
     "output_type": "execute_result"
    }
   ],
   "source": [
    "data.head(8)"
   ]
  },
  {
   "cell_type": "code",
   "execution_count": 29,
   "id": "serial-stopping",
   "metadata": {},
   "outputs": [],
   "source": [
    "data = pd.read_csv('abo.csv')"
   ]
  },
  {
   "cell_type": "code",
   "execution_count": 32,
   "id": "stretch-correction",
   "metadata": {},
   "outputs": [
    {
     "data": {
      "text/html": [
       "<div>\n",
       "<style scoped>\n",
       "    .dataframe tbody tr th:only-of-type {\n",
       "        vertical-align: middle;\n",
       "    }\n",
       "\n",
       "    .dataframe tbody tr th {\n",
       "        vertical-align: top;\n",
       "    }\n",
       "\n",
       "    .dataframe thead th {\n",
       "        text-align: right;\n",
       "    }\n",
       "</style>\n",
       "<table border=\"1\" class=\"dataframe\">\n",
       "  <thead>\n",
       "    <tr style=\"text-align: right;\">\n",
       "      <th></th>\n",
       "      <th>Aves de la vereda Roble Hueco - Bojacá, Cundinamarca</th>\n",
       "    </tr>\n",
       "  </thead>\n",
       "  <tbody>\n",
       "    <tr>\n",
       "      <th>0</th>\n",
       "      <td>Pedro Arturo Camargo Martínez1, Asociación Bog...</td>\n",
       "    </tr>\n",
       "    <tr>\n",
       "      <th>1</th>\n",
       "      <td>1 Asociación Bogotana de Ornitología, , Colomb...</td>\n",
       "    </tr>\n",
       "    <tr>\n",
       "      <th>2</th>\n",
       "      <td>Corresponding author(s): Pedro Arturo Camargo ...</td>\n",
       "    </tr>\n",
       "    <tr>\n",
       "      <th>3</th>\n",
       "      <td>Received {date}; Revised {date}; Accepted {dat...</td>\n",
       "    </tr>\n",
       "    <tr>\n",
       "      <th>4</th>\n",
       "      <td>Citation: Combination of authors, year of data...</td>\n",
       "    </tr>\n",
       "  </tbody>\n",
       "</table>\n",
       "</div>"
      ],
      "text/plain": [
       "  Aves de la vereda Roble Hueco - Bojacá, Cundinamarca\n",
       "0  Pedro Arturo Camargo Martínez1, Asociación Bog...  \n",
       "1  1 Asociación Bogotana de Ornitología, , Colomb...  \n",
       "2  Corresponding author(s): Pedro Arturo Camargo ...  \n",
       "3  Received {date}; Revised {date}; Accepted {dat...  \n",
       "4  Citation: Combination of authors, year of data...  "
      ]
     },
     "execution_count": 32,
     "metadata": {},
     "output_type": "execute_result"
    }
   ],
   "source": [
    "data.head()"
   ]
  },
  {
   "cell_type": "code",
   "execution_count": 36,
   "id": "closing-louisiana",
   "metadata": {},
   "outputs": [],
   "source": [
    "data = pd.read_csv('abo.csv')"
   ]
  },
  {
   "cell_type": "code",
   "execution_count": 37,
   "id": "considered-malawi",
   "metadata": {},
   "outputs": [
    {
     "data": {
      "text/html": [
       "<div>\n",
       "<style scoped>\n",
       "    .dataframe tbody tr th:only-of-type {\n",
       "        vertical-align: middle;\n",
       "    }\n",
       "\n",
       "    .dataframe tbody tr th {\n",
       "        vertical-align: top;\n",
       "    }\n",
       "\n",
       "    .dataframe thead th {\n",
       "        text-align: right;\n",
       "    }\n",
       "</style>\n",
       "<table border=\"1\" class=\"dataframe\">\n",
       "  <thead>\n",
       "    <tr style=\"text-align: right;\">\n",
       "      <th></th>\n",
       "      <th>Aves de la vereda Roble Hueco - Bojacá, Cundinamarca</th>\n",
       "    </tr>\n",
       "  </thead>\n",
       "  <tbody>\n",
       "    <tr>\n",
       "      <th>0</th>\n",
       "      <td>Pedro Arturo Camargo Martínez1, Asociación Bog...</td>\n",
       "    </tr>\n",
       "    <tr>\n",
       "      <th>1</th>\n",
       "      <td>1 Asociación Bogotana de Ornitología, , Colomb...</td>\n",
       "    </tr>\n",
       "    <tr>\n",
       "      <th>2</th>\n",
       "      <td>Corresponding author(s): Pedro Arturo Camargo ...</td>\n",
       "    </tr>\n",
       "    <tr>\n",
       "      <th>3</th>\n",
       "      <td>Received {date}; Revised {date}; Accepted {dat...</td>\n",
       "    </tr>\n",
       "    <tr>\n",
       "      <th>4</th>\n",
       "      <td>Citation: Combination of authors, year of data...</td>\n",
       "    </tr>\n",
       "  </tbody>\n",
       "</table>\n",
       "</div>"
      ],
      "text/plain": [
       "  Aves de la vereda Roble Hueco - Bojacá, Cundinamarca\n",
       "0  Pedro Arturo Camargo Martínez1, Asociación Bog...  \n",
       "1  1 Asociación Bogotana de Ornitología, , Colomb...  \n",
       "2  Corresponding author(s): Pedro Arturo Camargo ...  \n",
       "3  Received {date}; Revised {date}; Accepted {dat...  \n",
       "4  Citation: Combination of authors, year of data...  "
      ]
     },
     "execution_count": 37,
     "metadata": {},
     "output_type": "execute_result"
    }
   ],
   "source": [
    "data.head()"
   ]
  },
  {
   "cell_type": "code",
   "execution_count": 45,
   "id": "informational-frost",
   "metadata": {},
   "outputs": [],
   "source": [
    "data = pd.read_csv('taxon.csv', index_col='id')"
   ]
  },
  {
   "cell_type": "code",
   "execution_count": 43,
   "id": "heard-david",
   "metadata": {},
   "outputs": [
    {
     "data": {
      "text/html": [
       "<div>\n",
       "<style scoped>\n",
       "    .dataframe tbody tr th:only-of-type {\n",
       "        vertical-align: middle;\n",
       "    }\n",
       "\n",
       "    .dataframe tbody tr th {\n",
       "        vertical-align: top;\n",
       "    }\n",
       "\n",
       "    .dataframe thead th {\n",
       "        text-align: right;\n",
       "    }\n",
       "</style>\n",
       "<table border=\"1\" class=\"dataframe\">\n",
       "  <thead>\n",
       "    <tr style=\"text-align: right;\">\n",
       "      <th></th>\n",
       "      <th>id</th>\n",
       "      <th>taxonID</th>\n",
       "      <th>scientificName</th>\n",
       "      <th>kingdom</th>\n",
       "      <th>phylum</th>\n",
       "      <th>class</th>\n",
       "      <th>order</th>\n",
       "      <th>family</th>\n",
       "      <th>genus</th>\n",
       "      <th>specificEpithet</th>\n",
       "      <th>taxonRank</th>\n",
       "      <th>scientificNameAuthorship</th>\n",
       "      <th>vernacularName</th>\n",
       "      <th>taxonRemarks</th>\n",
       "      <th>language</th>\n",
       "      <th>rightsHolder</th>\n",
       "      <th>datasetID</th>\n",
       "      <th>Unnamed: 17</th>\n",
       "      <th>Unnamed: 18</th>\n",
       "    </tr>\n",
       "  </thead>\n",
       "  <tbody>\n",
       "    <tr>\n",
       "      <th>0</th>\n",
       "      <td>urn:lsid:catalogueoflife.org:taxon:effaee42-29...</td>\n",
       "      <td>urn:lsid:catalogueoflife.org:taxon:effaee42-29...</td>\n",
       "      <td>Penelope montagnii</td>\n",
       "      <td>Animalia</td>\n",
       "      <td>Chordata</td>\n",
       "      <td>Aves</td>\n",
       "      <td>Craciformes</td>\n",
       "      <td>Cracidae</td>\n",
       "      <td>Penelope</td>\n",
       "      <td>montagnii</td>\n",
       "      <td>Especie</td>\n",
       "      <td>(Bonaparte</td>\n",
       "      <td>1856)</td>\n",
       "      <td>Pava Andina</td>\n",
       "      <td>NaN</td>\n",
       "      <td>es</td>\n",
       "      <td>Asociación Bogotana de Ornitología</td>\n",
       "      <td>ABO:GOBRH:001</td>\n",
       "      <td>NaN</td>\n",
       "    </tr>\n",
       "    <tr>\n",
       "      <th>1</th>\n",
       "      <td>urn:lsid:organismnames.com:name:2421257</td>\n",
       "      <td>urn:lsid:organismnames.com:name:2421257</td>\n",
       "      <td>Ortalis columbiana</td>\n",
       "      <td>Animalia</td>\n",
       "      <td>Chordata</td>\n",
       "      <td>Aves</td>\n",
       "      <td>Craciformes</td>\n",
       "      <td>Cracidae</td>\n",
       "      <td>Ortalis</td>\n",
       "      <td>columbiana</td>\n",
       "      <td>Especie</td>\n",
       "      <td>Hellmayr</td>\n",
       "      <td>1906</td>\n",
       "      <td>Guacharaca Colombiana</td>\n",
       "      <td>NaN</td>\n",
       "      <td>es</td>\n",
       "      <td>Asociación Bogotana de Ornitología</td>\n",
       "      <td>ABO:GOBRH:001</td>\n",
       "      <td>NaN</td>\n",
       "    </tr>\n",
       "    <tr>\n",
       "      <th>2</th>\n",
       "      <td>urn:lsid:catalogueoflife.org:taxon:d1ce60bc-2d...</td>\n",
       "      <td>urn:lsid:catalogueoflife.org:taxon:d1ce60bc-2d...</td>\n",
       "      <td>Bubulcus ibis</td>\n",
       "      <td>Animalia</td>\n",
       "      <td>Chordata</td>\n",
       "      <td>Aves</td>\n",
       "      <td>Pelecaniformes</td>\n",
       "      <td>Ardeidae</td>\n",
       "      <td>Bubulcus</td>\n",
       "      <td>ibis</td>\n",
       "      <td>Especie</td>\n",
       "      <td>(Linnaeus</td>\n",
       "      <td>1758)</td>\n",
       "      <td>Garza del Ganado</td>\n",
       "      <td>NaN</td>\n",
       "      <td>es</td>\n",
       "      <td>Asociación Bogotana de Ornitología</td>\n",
       "      <td>ABO:GOBRH:001</td>\n",
       "      <td>NaN</td>\n",
       "    </tr>\n",
       "    <tr>\n",
       "      <th>3</th>\n",
       "      <td>urn:lsid:catalogueoflife.org:taxon:d1cf5e48-2d...</td>\n",
       "      <td>urn:lsid:catalogueoflife.org:taxon:d1cf5e48-2d...</td>\n",
       "      <td>Coragyps atratus</td>\n",
       "      <td>Animalia</td>\n",
       "      <td>Chordata</td>\n",
       "      <td>Aves</td>\n",
       "      <td>Cathartiformes</td>\n",
       "      <td>Cathartidae</td>\n",
       "      <td>Coragyps</td>\n",
       "      <td>atratus</td>\n",
       "      <td>Especie</td>\n",
       "      <td>(Bechstein</td>\n",
       "      <td>1793)</td>\n",
       "      <td>Gallinazo Común</td>\n",
       "      <td>NaN</td>\n",
       "      <td>es</td>\n",
       "      <td>Asociación Bogotana de Ornitología</td>\n",
       "      <td>ABO:GOBRH:001</td>\n",
       "      <td>NaN</td>\n",
       "    </tr>\n",
       "    <tr>\n",
       "      <th>4</th>\n",
       "      <td>urn:lsid:catalogueoflife.org:taxon:eff63f28-29...</td>\n",
       "      <td>urn:lsid:catalogueoflife.org:taxon:eff63f28-29...</td>\n",
       "      <td>Rupornis magnirostris</td>\n",
       "      <td>Animalia</td>\n",
       "      <td>Chordata</td>\n",
       "      <td>Aves</td>\n",
       "      <td>Accipitriformes</td>\n",
       "      <td>Accipitridae</td>\n",
       "      <td>Rupornis</td>\n",
       "      <td>magnirostris</td>\n",
       "      <td>Especie</td>\n",
       "      <td>(Gmelin</td>\n",
       "      <td>JF</td>\n",
       "      <td>1788)</td>\n",
       "      <td>Gavilan Caminero</td>\n",
       "      <td>NaN</td>\n",
       "      <td>es</td>\n",
       "      <td>Asociación Bogotana de Ornitología</td>\n",
       "      <td>ABO:GOBRH:001</td>\n",
       "    </tr>\n",
       "    <tr>\n",
       "      <th>5</th>\n",
       "      <td>urn:lsid:catalogueoflife.org:taxon:d1cf8e69-2d...</td>\n",
       "      <td>urn:lsid:catalogueoflife.org:taxon:d1cf8e69-2d...</td>\n",
       "      <td>Buteo platypterus</td>\n",
       "      <td>Animalia</td>\n",
       "      <td>Chordata</td>\n",
       "      <td>Aves</td>\n",
       "      <td>Accipitriformes</td>\n",
       "      <td>Accipitridae</td>\n",
       "      <td>Buteo</td>\n",
       "      <td>platypterus</td>\n",
       "      <td>Especie</td>\n",
       "      <td>(Vieillot</td>\n",
       "      <td>1823)</td>\n",
       "      <td>Gavilan Aliancho</td>\n",
       "      <td>NaN</td>\n",
       "      <td>es</td>\n",
       "      <td>Asociación Bogotana de Ornitología</td>\n",
       "      <td>ABO:GOBRH:001</td>\n",
       "      <td>NaN</td>\n",
       "    </tr>\n",
       "    <tr>\n",
       "      <th>6</th>\n",
       "      <td>urn:lsid:catalogueoflife.org:taxon:f04a8a38-29...</td>\n",
       "      <td>urn:lsid:catalogueoflife.org:taxon:f04a8a38-29...</td>\n",
       "      <td>Patagioenas fasciata</td>\n",
       "      <td>Animalia</td>\n",
       "      <td>Chordata</td>\n",
       "      <td>Aves</td>\n",
       "      <td>Columbiformes</td>\n",
       "      <td>Columbidae</td>\n",
       "      <td>Patagioenas</td>\n",
       "      <td>fasciata</td>\n",
       "      <td>Especie</td>\n",
       "      <td>(Say</td>\n",
       "      <td>1823)</td>\n",
       "      <td>Paloma Collareja</td>\n",
       "      <td>NaN</td>\n",
       "      <td>es</td>\n",
       "      <td>Asociación Bogotana de Ornitología</td>\n",
       "      <td>ABO:GOBRH:001</td>\n",
       "      <td>NaN</td>\n",
       "    </tr>\n",
       "    <tr>\n",
       "      <th>7</th>\n",
       "      <td>urn:lsid:catalogueoflife.org:taxon:eff92508-29...</td>\n",
       "      <td>urn:lsid:catalogueoflife.org:taxon:eff92508-29...</td>\n",
       "      <td>Zenaida auriculata</td>\n",
       "      <td>Animalia</td>\n",
       "      <td>Chordata</td>\n",
       "      <td>Aves</td>\n",
       "      <td>Columbiformes</td>\n",
       "      <td>Columbidae</td>\n",
       "      <td>Zenaida</td>\n",
       "      <td>auriculata</td>\n",
       "      <td>Especie</td>\n",
       "      <td>(Des Murs</td>\n",
       "      <td>1847)</td>\n",
       "      <td>Torcaza</td>\n",
       "      <td>NaN</td>\n",
       "      <td>es</td>\n",
       "      <td>Asociación Bogotana de Ornitología</td>\n",
       "      <td>ABO:GOBRH:001</td>\n",
       "      <td>NaN</td>\n",
       "    </tr>\n",
       "  </tbody>\n",
       "</table>\n",
       "</div>"
      ],
      "text/plain": [
       "                                                  id  \\\n",
       "0  urn:lsid:catalogueoflife.org:taxon:effaee42-29...   \n",
       "1            urn:lsid:organismnames.com:name:2421257   \n",
       "2  urn:lsid:catalogueoflife.org:taxon:d1ce60bc-2d...   \n",
       "3  urn:lsid:catalogueoflife.org:taxon:d1cf5e48-2d...   \n",
       "4  urn:lsid:catalogueoflife.org:taxon:eff63f28-29...   \n",
       "5  urn:lsid:catalogueoflife.org:taxon:d1cf8e69-2d...   \n",
       "6  urn:lsid:catalogueoflife.org:taxon:f04a8a38-29...   \n",
       "7  urn:lsid:catalogueoflife.org:taxon:eff92508-29...   \n",
       "\n",
       "                                             taxonID         scientificName  \\\n",
       "0  urn:lsid:catalogueoflife.org:taxon:effaee42-29...     Penelope montagnii   \n",
       "1            urn:lsid:organismnames.com:name:2421257     Ortalis columbiana   \n",
       "2  urn:lsid:catalogueoflife.org:taxon:d1ce60bc-2d...          Bubulcus ibis   \n",
       "3  urn:lsid:catalogueoflife.org:taxon:d1cf5e48-2d...       Coragyps atratus   \n",
       "4  urn:lsid:catalogueoflife.org:taxon:eff63f28-29...  Rupornis magnirostris   \n",
       "5  urn:lsid:catalogueoflife.org:taxon:d1cf8e69-2d...      Buteo platypterus   \n",
       "6  urn:lsid:catalogueoflife.org:taxon:f04a8a38-29...   Patagioenas fasciata   \n",
       "7  urn:lsid:catalogueoflife.org:taxon:eff92508-29...     Zenaida auriculata   \n",
       "\n",
       "    kingdom    phylum class            order        family        genus  \\\n",
       "0  Animalia  Chordata  Aves      Craciformes      Cracidae     Penelope   \n",
       "1  Animalia  Chordata  Aves      Craciformes      Cracidae      Ortalis   \n",
       "2  Animalia  Chordata  Aves   Pelecaniformes      Ardeidae     Bubulcus   \n",
       "3  Animalia  Chordata  Aves   Cathartiformes   Cathartidae     Coragyps   \n",
       "4  Animalia  Chordata  Aves  Accipitriformes  Accipitridae     Rupornis   \n",
       "5  Animalia  Chordata  Aves  Accipitriformes  Accipitridae        Buteo   \n",
       "6  Animalia  Chordata  Aves    Columbiformes    Columbidae  Patagioenas   \n",
       "7  Animalia  Chordata  Aves    Columbiformes    Columbidae      Zenaida   \n",
       "\n",
       "  specificEpithet taxonRank scientificNameAuthorship vernacularName  \\\n",
       "0       montagnii   Especie               (Bonaparte          1856)   \n",
       "1      columbiana   Especie                 Hellmayr           1906   \n",
       "2            ibis   Especie                (Linnaeus          1758)   \n",
       "3         atratus   Especie               (Bechstein          1793)   \n",
       "4    magnirostris   Especie                  (Gmelin             JF   \n",
       "5     platypterus   Especie                (Vieillot          1823)   \n",
       "6        fasciata   Especie                     (Say          1823)   \n",
       "7      auriculata   Especie                (Des Murs          1847)   \n",
       "\n",
       "            taxonRemarks          language rightsHolder  \\\n",
       "0            Pava Andina               NaN           es   \n",
       "1  Guacharaca Colombiana               NaN           es   \n",
       "2       Garza del Ganado               NaN           es   \n",
       "3        Gallinazo Común               NaN           es   \n",
       "4                  1788)  Gavilan Caminero          NaN   \n",
       "5       Gavilan Aliancho               NaN           es   \n",
       "6       Paloma Collareja               NaN           es   \n",
       "7                Torcaza               NaN           es   \n",
       "\n",
       "                            datasetID                         Unnamed: 17  \\\n",
       "0  Asociación Bogotana de Ornitología                       ABO:GOBRH:001   \n",
       "1  Asociación Bogotana de Ornitología                       ABO:GOBRH:001   \n",
       "2  Asociación Bogotana de Ornitología                       ABO:GOBRH:001   \n",
       "3  Asociación Bogotana de Ornitología                       ABO:GOBRH:001   \n",
       "4                                  es  Asociación Bogotana de Ornitología   \n",
       "5  Asociación Bogotana de Ornitología                       ABO:GOBRH:001   \n",
       "6  Asociación Bogotana de Ornitología                       ABO:GOBRH:001   \n",
       "7  Asociación Bogotana de Ornitología                       ABO:GOBRH:001   \n",
       "\n",
       "     Unnamed: 18  \n",
       "0            NaN  \n",
       "1            NaN  \n",
       "2            NaN  \n",
       "3            NaN  \n",
       "4  ABO:GOBRH:001  \n",
       "5            NaN  \n",
       "6            NaN  \n",
       "7            NaN  "
      ]
     },
     "execution_count": 43,
     "metadata": {},
     "output_type": "execute_result"
    }
   ],
   "source": [
    "data.head(8)"
   ]
  },
  {
   "cell_type": "code",
   "execution_count": 47,
   "id": "adult-border",
   "metadata": {},
   "outputs": [
    {
     "data": {
      "text/plain": [
       "pandas.core.series.Series"
      ]
     },
     "execution_count": 47,
     "metadata": {},
     "output_type": "execute_result"
    }
   ],
   "source": [
    "type(data['scientificName'])"
   ]
  },
  {
   "cell_type": "code",
   "execution_count": 49,
   "id": "searching-spine",
   "metadata": {},
   "outputs": [
    {
     "data": {
      "text/plain": [
       "id\n",
       "urn:lsid:catalogueoflife.org:taxon:effaee42-29c1-102b-9a4a-00304854f820:col20120124          Penelope montagnii\n",
       "urn:lsid:organismnames.com:name:2421257                                                      Ortalis columbiana\n",
       "urn:lsid:catalogueoflife.org:taxon:d1ce60bc-2dc5-11e0-98c6-2ce70255a436:col20120124               Bubulcus ibis\n",
       "urn:lsid:catalogueoflife.org:taxon:d1cf5e48-2dc5-11e0-98c6-2ce70255a436:col20120124            Coragyps atratus\n",
       "urn:lsid:catalogueoflife.org:taxon:eff63f28-29c1-102b-9a4a-00304854f820:col20120124       Rupornis magnirostris\n",
       "                                                                                                 ...           \n",
       "urn:lsid:catalogueoflife.org:taxon:f0043678-29c1-102b-9a4a-00304854f820:col20120124    Basileuterus tristriatus\n",
       "urn:lsid:catalogueoflife.org:taxon:ea80cce8-29c1-102b-9a4a-00304854f820:col20120124      Myiothlypis fulvicauda\n",
       "urn:lsid:catalogueoflife.org:taxon:d236fdc9-2dc5-11e0-98c6-2ce70255a436:col20120124           Icterus chrysater\n",
       "urn:lsid:catalogueoflife.org:taxon:effdaa4c-29c1-102b-9a4a-00304854f820:col20120124         Sporagra spinescens\n",
       "urn:lsid:catalogueoflife.org:taxon:ecd79a12-29c1-102b-9a4a-00304854f820:col20120124       Euphonia laniirostris\n",
       "Name: scientificName, Length: 96, dtype: object"
      ]
     },
     "execution_count": 49,
     "metadata": {},
     "output_type": "execute_result"
    }
   ],
   "source": [
    "data.scientificName"
   ]
  },
  {
   "cell_type": "code",
   "execution_count": 52,
   "id": "concrete-truth",
   "metadata": {},
   "outputs": [
    {
     "data": {
      "text/plain": [
       "'Zonotrichia capensis'"
      ]
     },
     "execution_count": 52,
     "metadata": {},
     "output_type": "execute_result"
    }
   ],
   "source": [
    "data['scientificName'].max()"
   ]
  }
 ],
 "metadata": {
  "kernelspec": {
   "display_name": "Python 3",
   "language": "python",
   "name": "python3"
  },
  "language_info": {
   "codemirror_mode": {
    "name": "ipython",
    "version": 3
   },
   "file_extension": ".py",
   "mimetype": "text/x-python",
   "name": "python",
   "nbconvert_exporter": "python",
   "pygments_lexer": "ipython3",
   "version": "3.8.5"
  }
 },
 "nbformat": 4,
 "nbformat_minor": 5
}
