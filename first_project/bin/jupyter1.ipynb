{
 "cells": [
  {
   "cell_type": "code",
   "execution_count": 1,
   "id": "advised-nickel",
   "metadata": {},
   "outputs": [],
   "source": [
    "# Pitágoras"
   ]
  },
  {
   "cell_type": "code",
   "execution_count": 2,
   "id": "annual-collar",
   "metadata": {},
   "outputs": [],
   "source": [
    "import math"
   ]
  },
  {
   "cell_type": "code",
   "execution_count": 8,
   "id": "color-demand",
   "metadata": {},
   "outputs": [],
   "source": [
    "def pitagoras(a, b):\n",
    "    return math.sqrt(a**2 + b**2)"
   ]
  },
  {
   "cell_type": "code",
   "execution_count": 10,
   "id": "least-poultry",
   "metadata": {},
   "outputs": [
    {
     "data": {
      "text/plain": [
       "22.360679774997898"
      ]
     },
     "execution_count": 10,
     "metadata": {},
     "output_type": "execute_result"
    }
   ],
   "source": [
    "pitagoras(10, 20)"
   ]
  },
  {
   "cell_type": "code",
   "execution_count": 13,
   "id": "unlike-reaction",
   "metadata": {},
   "outputs": [
    {
     "name": "stdout",
     "output_type": "stream",
     "text": [
      "activate\t\t  jupyter-console\t   pip3\r\n",
      "activate.csh\t\t  jupyter-kernel\t   pip-3.8\r\n",
      "activate.fish\t\t  jupyter-kernelspec\t   pip3.8\r\n",
      "activate.ps1\t\t  jupyter-migrate\t   pygmentize\r\n",
      "activate_this.py\t  jupyter-nbconvert\t   python\r\n",
      "activate.xsh\t\t  jupyter-nbextension\t   python3\r\n",
      "iptest\t\t\t  jupyter-notebook\t   python3.8\r\n",
      "iptest3\t\t\t  jupyter-qtconsole\t   Untitled.ipynb\r\n",
      "ipython\t\t\t  jupyter-run\t\t   wheel\r\n",
      "ipython3\t\t  jupyter-serverextension  wheel3\r\n",
      "jsonschema\t\t  jupyter-troubleshoot\t   wheel-3.8\r\n",
      "jupyter\t\t\t  jupyter-trust\t\t   wheel3.8\r\n",
      "jupyter-bundlerextension  pip\r\n"
     ]
    }
   ],
   "source": [
    "!ls"
   ]
  },
  {
   "cell_type": "code",
   "execution_count": null,
   "id": "cathedral-cooling",
   "metadata": {},
   "outputs": [],
   "source": []
  }
 ],
 "metadata": {
  "kernelspec": {
   "display_name": "Python 3",
   "language": "python",
   "name": "python3"
  },
  "language_info": {
   "codemirror_mode": {
    "name": "ipython",
    "version": 3
   },
   "file_extension": ".py",
   "mimetype": "text/x-python",
   "name": "python",
   "nbconvert_exporter": "python",
   "pygments_lexer": "ipython3",
   "version": "3.8.5"
  }
 },
 "nbformat": 4,
 "nbformat_minor": 5
}
